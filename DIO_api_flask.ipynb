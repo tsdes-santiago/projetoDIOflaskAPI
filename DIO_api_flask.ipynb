{
  "cells": [
    {
      "cell_type": "markdown",
      "metadata": {
        "id": "view-in-github",
        "colab_type": "text"
      },
      "source": [
        "<a href=\"https://colab.research.google.com/github/tsdes-santiago/projetoDIOflaskAPI/blob/main/DIO_api_flask.ipynb\" target=\"_parent\"><img src=\"https://colab.research.google.com/assets/colab-badge.svg\" alt=\"Open In Colab\"/></a>"
      ]
    },
    {
      "cell_type": "markdown",
      "source": [
        "# DIO: Criando uma API com Flask no Ambiente COLAB\n",
        "\n",
        "Desafio de projeto seguindo o tutorial em:\n",
        "\n",
        "https://colab.research.google.com/drive/1g2hsz6uy753AJlSORImhYu_stt69twsP#scrollTo=leQIwJoF_Aal\n",
        "\n",
        "Nesse projeto um tabela .csv é lida, convertida para json e retornada na nossa página {Public_URL}"
      ],
      "metadata": {
        "id": "DjhZXN6EVNGJ"
      }
    },
    {
      "cell_type": "markdown",
      "source": [
        "Tive problemas para executar o run_with_ngrok do pacote flask_ngrok. Retornava acesso negado, talvez o colab deixou de dar suporte.\n",
        "\n",
        "Na documentação do ngrok recomendam usar o pacote pyngrok. Segui os passos em https://pyngrok.readthedocs.io/en/latest/integrations.html#google-colaboratory para configurar a conexão."
      ],
      "metadata": {
        "id": "D7wakDpkVZOE"
      }
    },
    {
      "cell_type": "code",
      "source": [
        "#Intalando pacotes\n",
        "!pip install flask\n",
        "!pip install pyngrok"
      ],
      "metadata": {
        "colab": {
          "base_uri": "https://localhost:8080/"
        },
        "id": "IMRslNt6Ok8z",
        "outputId": "ac235698-5aed-46e2-e388-1bd776338e04"
      },
      "execution_count": 1,
      "outputs": [
        {
          "output_type": "stream",
          "name": "stdout",
          "text": [
            "Requirement already satisfied: flask in /usr/local/lib/python3.10/dist-packages (0.12.2)\n",
            "Requirement already satisfied: Jinja2>=2.4 in /usr/local/lib/python3.10/dist-packages (from flask) (3.0.3)\n",
            "Requirement already satisfied: Werkzeug>=0.7 in /usr/local/lib/python3.10/dist-packages (from flask) (3.0.1)\n",
            "Requirement already satisfied: click>=2.0 in /usr/local/lib/python3.10/dist-packages (from flask) (8.1.7)\n",
            "Requirement already satisfied: itsdangerous>=0.21 in /usr/local/lib/python3.10/dist-packages (from flask) (2.0.1)\n",
            "Requirement already satisfied: MarkupSafe>=2.0 in /usr/local/lib/python3.10/dist-packages (from Jinja2>=2.4->flask) (2.1.5)\n",
            "Requirement already satisfied: pyngrok in /usr/local/lib/python3.10/dist-packages (7.1.6)\n",
            "Requirement already satisfied: PyYAML>=5.1 in /usr/local/lib/python3.10/dist-packages (from pyngrok) (6.0.1)\n"
          ]
        }
      ]
    },
    {
      "cell_type": "markdown",
      "source": [
        "É necessário criar uma conta no ngrok e obter o token de acesso. Eu retirei meu token do arquivo por questões de privacidade dos dados."
      ],
      "metadata": {
        "id": "30LSIVSKW-ZI"
      }
    },
    {
      "cell_type": "code",
      "source": [
        "# Configurando chave de acesso\n",
        "!ngrok config add-authtoken <inserir o token aqui>"
      ],
      "metadata": {
        "colab": {
          "base_uri": "https://localhost:8080/"
        },
        "id": "1ePONiziOxOL",
        "outputId": "b0a296b7-df2b-420d-9c1f-c6ff73c398df"
      },
      "execution_count": 2,
      "outputs": [
        {
          "output_type": "stream",
          "name": "stdout",
          "text": [
            "Authtoken saved to configuration file: /root/.config/ngrok/ngrok.yml\n"
          ]
        }
      ]
    },
    {
      "cell_type": "markdown",
      "metadata": {
        "id": "a0aPHPv9-ULV"
      },
      "source": [
        "Vamos importar as bibliotecas que usaremos,"
      ]
    },
    {
      "cell_type": "code",
      "execution_count": 3,
      "metadata": {
        "id": "gd4BQZgY-Pod"
      },
      "outputs": [],
      "source": [
        "import pandas as pd\n",
        "from flask import request, jsonify, Flask\n",
        "from pyngrok import ngrok"
      ]
    },
    {
      "cell_type": "markdown",
      "metadata": {
        "id": "tOnCSl4f-XgN"
      },
      "source": [
        "Bem, a maioria das bibliotecas vem pré-instalada. No entanto, se você perder algum, basta \"!pip install <nome da biblioteca que você está perdendo, sem este colchete angular fora do curso>\".\n",
        "Em seguida, definimos \"o nome do pacote de aplicativos\" e adicionamos \"run_with_ngrok(app)\" para disponibilizar seu aplicativo Flask ao executar"
      ]
    },
    {
      "cell_type": "code",
      "execution_count": 4,
      "metadata": {
        "id": "rGXIGaaJ-eiY",
        "colab": {
          "base_uri": "https://localhost:8080/"
        },
        "outputId": "234390a1-9f56-4f86-cc9d-e79114b3a8f5"
      },
      "outputs": [
        {
          "output_type": "stream",
          "name": "stdout",
          "text": [
            " * ngrok tunnel \"https://2727-34-125-14-90.ngrok-free.app\n"
          ]
        }
      ],
      "source": [
        "app = Flask(__name__) #the name of the application package\n",
        "app.config['JSONIFY_PRETTYPRINT_REGULAR'] = False\n",
        "#avoid server error attributeerror-request-object-has-no-attribute-is-xhr\n",
        "# https://stackoverflow.com/questions/60992849/attributeerror-request-object-has-no-attribute-is-xhr\n",
        "port = \"5000\"\n",
        "\n",
        "# Open a ngrok tunnel to the HTTP server\n",
        "public_url = ngrok.connect(port).public_url\n",
        "print(f\" * ngrok tunnel \\\"{public_url}\")\n",
        "\n",
        "# Update any base URLs to use the public ngrok URL\n",
        "app.config[\"BASE_URL\"] = public_url\n",
        "\n",
        "# ... Update inbound traffic via APIs to use the public-facing ngrok URL\n"
      ]
    },
    {
      "cell_type": "markdown",
      "source": [
        "Baixando uma tabela .csv da internet que sera convertida para json"
      ],
      "metadata": {
        "id": "sXyAIqUBXyy0"
      }
    },
    {
      "cell_type": "code",
      "source": [
        "!wget https://www.dadosmundiais.com/downloads/example-capitals-pt.csv"
      ],
      "metadata": {
        "colab": {
          "base_uri": "https://localhost:8080/"
        },
        "id": "LyP3EyT-Hajr",
        "outputId": "691b9731-737f-444e-a40b-da7ffeab1d2e"
      },
      "execution_count": 5,
      "outputs": [
        {
          "output_type": "stream",
          "name": "stdout",
          "text": [
            "--2024-03-28 18:48:41--  https://www.dadosmundiais.com/downloads/example-capitals-pt.csv\n",
            "Resolving www.dadosmundiais.com (www.dadosmundiais.com)... 18.65.25.67, 18.65.25.107, 18.65.25.17, ...\n",
            "Connecting to www.dadosmundiais.com (www.dadosmundiais.com)|18.65.25.67|:443... connected.\n",
            "HTTP request sent, awaiting response... 200 OK\n",
            "Length: 498 [text/comma-separated-values]\n",
            "Saving to: ‘example-capitals-pt.csv.1’\n",
            "\n",
            "example-capitals-pt 100%[===================>]     498  --.-KB/s    in 0s      \n",
            "\n",
            "2024-03-28 18:48:41 (16.7 MB/s) - ‘example-capitals-pt.csv.1’ saved [498/498]\n",
            "\n"
          ]
        }
      ]
    },
    {
      "cell_type": "code",
      "source": [
        "# Lendo a tabela e convertendo para dicionário\n",
        "dados = pd.read_csv('example-capitals-pt.csv').to_dict() #json string"
      ],
      "metadata": {
        "id": "GSpehzAdHgKc"
      },
      "execution_count": 6,
      "outputs": []
    },
    {
      "cell_type": "code",
      "execution_count": 7,
      "metadata": {
        "id": "RhOB_8NI-3x2"
      },
      "outputs": [],
      "source": [
        "# Definimos a página inicial com a table em json\n",
        "@app.route(\"/\")\n",
        "\n",
        "def home():\n",
        "  return jsonify(dados) #mostra dados em json"
      ]
    },
    {
      "cell_type": "code",
      "source": [
        "print(f\" * ngrok tunnel \\\"{public_url}\")\n",
        "app.run()"
      ],
      "metadata": {
        "colab": {
          "base_uri": "https://localhost:8080/"
        },
        "id": "0FOLHypedqp6",
        "outputId": "5f6d3a49-b0b1-4cc1-c270-562d9e00f547"
      },
      "execution_count": 8,
      "outputs": [
        {
          "output_type": "stream",
          "name": "stderr",
          "text": [
            "INFO:werkzeug:\u001b[31m\u001b[1mWARNING: This is a development server. Do not use it in a production deployment. Use a production WSGI server instead.\u001b[0m\n",
            " * Running on http://127.0.0.1:5000\n",
            "INFO:werkzeug:\u001b[33mPress CTRL+C to quit\u001b[0m\n"
          ]
        },
        {
          "output_type": "stream",
          "name": "stdout",
          "text": [
            " * ngrok tunnel \"https://2727-34-125-14-90.ngrok-free.app\n"
          ]
        },
        {
          "output_type": "stream",
          "name": "stderr",
          "text": [
            "INFO:werkzeug:127.0.0.1 - - [28/Mar/2024 18:48:54] \"GET / HTTP/1.1\" 200 -\n",
            "INFO:werkzeug:127.0.0.1 - - [28/Mar/2024 18:48:54] \"\u001b[33mGET /favicon.ico HTTP/1.1\u001b[0m\" 404 -\n",
            "WARNING:pyngrok.process.ngrok:t=2024-03-28T18:50:01+0000 lvl=warn msg=\"Stopping forwarder\" name=http-5000-86bf10f1-1cb2-49f6-9591-37d3c373b1cf acceptErr=\"failed to accept connection: Listener closed\"\n"
          ]
        }
      ]
    },
    {
      "cell_type": "code",
      "source": [
        "import sys\n",
        "sys.exit # Fechar o app"
      ],
      "metadata": {
        "colab": {
          "base_uri": "https://localhost:8080/"
        },
        "id": "_I3iv-Kea9nI",
        "outputId": "3f60465e-0314-42ea-db18-f63d792f3c95"
      },
      "execution_count": 9,
      "outputs": [
        {
          "output_type": "execute_result",
          "data": {
            "text/plain": [
              "<function sys.exit(status=None, /)>"
            ]
          },
          "metadata": {},
          "execution_count": 9
        }
      ]
    }
  ],
  "metadata": {
    "colab": {
      "provenance": [],
      "include_colab_link": true
    },
    "kernelspec": {
      "display_name": "Python 3",
      "name": "python3"
    },
    "language_info": {
      "name": "python"
    }
  },
  "nbformat": 4,
  "nbformat_minor": 0
}